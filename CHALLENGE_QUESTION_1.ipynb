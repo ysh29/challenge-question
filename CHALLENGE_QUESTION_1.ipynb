{
  "nbformat": 4,
  "nbformat_minor": 0,
  "metadata": {
    "colab": {
      "provenance": [],
      "include_colab_link": true
    },
    "kernelspec": {
      "name": "python3",
      "display_name": "Python 3"
    },
    "language_info": {
      "name": "python"
    }
  },
  "cells": [
    {
      "cell_type": "markdown",
      "metadata": {
        "id": "view-in-github",
        "colab_type": "text"
      },
      "source": [
        "<a href=\"https://colab.research.google.com/github/ysh29/challenge-question/blob/main/CHALLENGE_QUESTION_1.ipynb\" target=\"_parent\"><img src=\"https://colab.research.google.com/assets/colab-badge.svg\" alt=\"Open In Colab\"/></a>"
      ]
    },
    {
      "cell_type": "code",
      "source": [
        "L = [\"ram\",'1',\"sham\",\"yash\",'3',]\n",
        "print (\"here is the answer\",L)"
      ],
      "metadata": {
        "colab": {
          "base_uri": "https://localhost:8080/"
        },
        "id": "scYGtiw61i6c",
        "outputId": "e413968b-5224-45e9-d7dd-df07f6c237c9"
      },
      "execution_count": 1,
      "outputs": [
        {
          "output_type": "stream",
          "name": "stdout",
          "text": [
            "here is the answer ['ram', '1', 'sham', 'yash', '3']\n"
          ]
        }
      ]
    },
    {
      "cell_type": "code",
      "source": [
        "L = [\"ram\",'1',\"sham\",\"yash\",'3',]\n",
        "L.sort()\n",
        "print (\" here is the sorted list\",L)"
      ],
      "metadata": {
        "colab": {
          "base_uri": "https://localhost:8080/"
        },
        "id": "YtMpWEqG2GUS",
        "outputId": "c9f13231-67bf-4c44-bd61-f53b67e3fe24"
      },
      "execution_count": 2,
      "outputs": [
        {
          "output_type": "stream",
          "name": "stdout",
          "text": [
            " here is the sorted list ['1', '3', 'ram', 'sham', 'yash']\n"
          ]
        }
      ]
    },
    {
      "cell_type": "code",
      "source": [],
      "metadata": {
        "id": "lqqiPCqO4rIr"
      },
      "execution_count": null,
      "outputs": []
    }
  ]
}